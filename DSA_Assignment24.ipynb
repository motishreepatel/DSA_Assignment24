{
 "cells": [
  {
   "cell_type": "code",
   "execution_count": 4,
   "metadata": {},
   "outputs": [
    {
     "name": "stdout",
     "output_type": "stream",
     "text": [
      "3\n"
     ]
    }
   ],
   "source": [
    "#Q1 - \n",
    "'''   \n",
    "Roman numerals are represented by seven different symbols: `I`, `V`, `X`, `L`, `C`, `D` and `M`.\n",
    "\n",
    "```\n",
    "SymbolValue\n",
    "I             1\n",
    "V             5\n",
    "X             10\n",
    "L             50\n",
    "C             100\n",
    "D             500\n",
    "M             1000\n",
    "```\n",
    "\n",
    "For example, `2` is written as `II` in Roman numeral, just two ones added together. `12` is written as `XII`, which is simply `X + II`. The number `27` is written as `XXVII`, which is `XX + V + II`.\n",
    "\n",
    "Roman numerals are usually written largest to smallest from left to right. However, the numeral for four is not `IIII`. Instead, the number four is written as `IV`. Because the one is before the five we subtract it making four. The same principle applies to the number nine, which is written as `IX`. There are six instances where subtraction is used:\n",
    "\n",
    "- `I` can be placed before `V` (5) and `X` (10) to make 4 and 9.\n",
    "- `X` can be placed before `L` (50) and `C` (100) to make 40 and 90.\n",
    "- `C` can be placed before `D` (500) and `M` (1000) to make 400 and 900.\n",
    "\n",
    "Given a roman numeral, convert it to an integer.\n",
    "\n",
    "Input for this question is: s = \"III\"\n",
    "Output for this question should be: 3\n",
    "'''\n",
    "#Answer:\n",
    "def romanToInt(s):\n",
    "    roman_values = {'I': 1, 'V': 5, 'X': 10, 'L': 50, 'C': 100, 'D': 500, 'M': 1000}\n",
    "    result = 0\n",
    "    prev_value = 0\n",
    "\n",
    "    for c in reversed(s):\n",
    "        value = roman_values[c]\n",
    "\n",
    "        if value < prev_value:\n",
    "            result -= value\n",
    "        else:\n",
    "            result += value\n",
    "\n",
    "        prev_value = value\n",
    "\n",
    "    return result\n",
    "\n",
    "# Example usage\n",
    "s = \"III\"\n",
    "print(romanToInt(s))\n",
    "\n"
   ]
  },
  {
   "cell_type": "code",
   "execution_count": 5,
   "metadata": {},
   "outputs": [
    {
     "name": "stdout",
     "output_type": "stream",
     "text": [
      "3\n"
     ]
    }
   ],
   "source": [
    "#Q2 - \n",
    "'''   \n",
    "Given a string s, find the length of the longest substring without repeating characters.\n",
    "Input for this question: s = \"abcabcbb\"\n",
    "Output for this question should be : 3\n",
    "'''\n",
    "#Answer:\n",
    "def lengthOfLongestSubstring(s):\n",
    "    n = len(s)\n",
    "    char_set = set()\n",
    "    max_length = 0\n",
    "    left = 0\n",
    "    right = 0\n",
    "\n",
    "    while right < n:\n",
    "        if s[right] not in char_set:\n",
    "            char_set.add(s[right])\n",
    "            max_length = max(max_length, right - left + 1)\n",
    "            right += 1\n",
    "        else:\n",
    "            char_set.remove(s[left])\n",
    "            left += 1\n",
    "\n",
    "    return max_length\n",
    "\n",
    "# Example usage\n",
    "s = \"abcabcbb\"\n",
    "print(lengthOfLongestSubstring(s))"
   ]
  },
  {
   "cell_type": "code",
   "execution_count": 6,
   "metadata": {},
   "outputs": [
    {
     "name": "stdout",
     "output_type": "stream",
     "text": [
      "3\n"
     ]
    }
   ],
   "source": [
    "#Q3 - \n",
    "'''  \n",
    "Given an array `nums` of size `n`, return *the majority element*.\n",
    "\n",
    "The majority element is the element that appears more than `⌊n / 2⌋` times. You may assume that the majority element always exists in the array.\n",
    "Input for this question is: nums = [3,2,3]\n",
    "Output for this question should be: 3\n",
    "'''\n",
    "\n",
    "#Answer:\n",
    "def majorityElement(nums):\n",
    "    count = 0\n",
    "    candidate = None\n",
    "\n",
    "    for num in nums:\n",
    "        if count == 0:\n",
    "            candidate = num\n",
    "        count += 1 if num == candidate else -1\n",
    "\n",
    "    return candidate\n",
    "\n",
    "# Example usage\n",
    "nums = [3, 2, 3]\n",
    "print(majorityElement(nums))"
   ]
  },
  {
   "cell_type": "code",
   "execution_count": 8,
   "metadata": {},
   "outputs": [
    {
     "name": "stdout",
     "output_type": "stream",
     "text": [
      "[['eat', 'tea', 'ate'], ['tan', 'nat'], ['bat']]\n"
     ]
    }
   ],
   "source": [
    "#Q4 - \n",
    "'''  \n",
    "Given an array of strings `strs`, group **the anagrams** together. You can return the answer in **any order**.\n",
    "\n",
    "An **Anagram** is a word or phrase formed by rearranging the letters of a different word or phrase, typically using all the original letters exactly once.\n",
    "\n",
    "Input for this question: strs = [\"eat\",\"tea\",\"tan\",\"ate\",\"nat\",\"bat\"]\n",
    "Output for this question should be: [['eat', 'tea', 'ate'], ['tan', 'nat'], ['bat']]\n",
    "\n",
    "'''\n",
    "#Answer:\n",
    "from collections import defaultdict\n",
    "\n",
    "def groupAnagrams(strs):\n",
    "    anagram_groups = defaultdict(list)\n",
    "\n",
    "    for word in strs:\n",
    "        sorted_word = ''.join(sorted(word))\n",
    "        anagram_groups[sorted_word].append(word)\n",
    "\n",
    "    return list(anagram_groups.values())\n",
    "\n",
    "# Example usage\n",
    "strs = [\"eat\", \"tea\", \"tan\", \"ate\", \"nat\", \"bat\"]\n",
    "print(groupAnagrams(strs))\n"
   ]
  },
  {
   "cell_type": "code",
   "execution_count": 10,
   "metadata": {},
   "outputs": [
    {
     "name": "stdout",
     "output_type": "stream",
     "text": [
      "12\n"
     ]
    }
   ],
   "source": [
    "#Q5 - \n",
    "'''   \n",
    "An **ugly number** is a positive integer whose prime factors are limited to `2`, `3`, and `5`.\n",
    "\n",
    "Given an integer `n`, return *the* `nth` ***ugly number***.\n",
    "\n",
    "Input for this question is: n = 10\n",
    "Output for this question should be: 12\n",
    "\n",
    "'''\n",
    "#Answer:\n",
    "def nthUglyNumber(n):\n",
    "    ugly_numbers = [1]\n",
    "    p2 = p3 = p5 = 0\n",
    "\n",
    "    for _ in range(n - 1):\n",
    "        next_ugly = min(ugly_numbers[p2] * 2, ugly_numbers[p3] * 3, ugly_numbers[p5] * 5)\n",
    "        ugly_numbers.append(next_ugly)\n",
    "\n",
    "        if next_ugly == ugly_numbers[p2] * 2:\n",
    "            p2 += 1\n",
    "        if next_ugly == ugly_numbers[p3] * 3:\n",
    "            p3 += 1\n",
    "        if next_ugly == ugly_numbers[p5] * 5:\n",
    "            p5 += 1\n",
    "\n",
    "    return ugly_numbers[-1]\n",
    "\n",
    "# Example usage\n",
    "n = 10\n",
    "print(nthUglyNumber(n))"
   ]
  },
  {
   "cell_type": "code",
   "execution_count": 12,
   "metadata": {},
   "outputs": [
    {
     "name": "stdout",
     "output_type": "stream",
     "text": [
      "['i', 'love']\n"
     ]
    }
   ],
   "source": [
    "#Q6 - \n",
    "'''  \n",
    "Given an array of strings `words` and an integer `k`, return *the* `k` *most frequent strings*.\n",
    "\n",
    "Return the answer **sorted** by **the frequency** from highest to lowest. Sort the words with the same frequency by their **lexicographical order**.\n",
    "Input for this question is: words = [\"i\",\"love\",\"leetcode\",\"i\",\"love\",\"coding\"], k = 2\n",
    "Output for this question should be: [\"i\",\"love\"]\n",
    "'''\n",
    "#Answer:\n",
    "from collections import Counter\n",
    "\n",
    "def topKFrequent(words, k):\n",
    "    word_count = Counter(words)\n",
    "\n",
    "    # Custom sorting function\n",
    "    def custom_sort(word):\n",
    "        return (-word_count[word], word)\n",
    "\n",
    "    sorted_words = sorted(word_count.keys(), key=custom_sort)\n",
    "\n",
    "    return sorted_words[:k]\n",
    "\n",
    "# Example usage\n",
    "words = [\"i\", \"love\", \"leetcode\", \"i\", \"love\", \"coding\"]\n",
    "k = 2\n",
    "print(topKFrequent(words, k))\n"
   ]
  },
  {
   "cell_type": "code",
   "execution_count": 14,
   "metadata": {},
   "outputs": [
    {
     "name": "stdout",
     "output_type": "stream",
     "text": [
      "[3, 3, 5, 5, 6, 7]\n"
     ]
    }
   ],
   "source": [
    "#Q7 - \n",
    "'''   \n",
    "You are given an array of integers `nums`, there is a sliding window of size `k` which is moving from the very left of the array to the very right. You can only see the `k` numbers in the window. Each time the sliding window moves right by one position.\n",
    "\n",
    "Return *the max sliding window*.\n",
    "Input for this question is: nums = [1,3,-1,-3,5,3,6,7], k = 3\n",
    "Output for this question should be: [3,3,5,5,6,7]\n",
    "'''\n",
    "#Answer:\n",
    "from collections import deque\n",
    "\n",
    "def maxSlidingWindow(nums, k):\n",
    "    result = []\n",
    "    window = deque()\n",
    "\n",
    "    for i, num in enumerate(nums):\n",
    "        # Remove elements outside of the current window\n",
    "        while window and window[0] <= i - k:\n",
    "            window.popleft()\n",
    "\n",
    "        # Remove elements smaller than the current element\n",
    "        while window and nums[window[-1]] < num:\n",
    "            window.pop()\n",
    "\n",
    "        window.append(i)\n",
    "\n",
    "        # Append the maximum element of the current window to the result\n",
    "        if i >= k - 1:\n",
    "            result.append(nums[window[0]])\n",
    "\n",
    "    return result\n",
    "\n",
    "# Example usage\n",
    "nums = [1, 3, -1, -3, 5, 3, 6, 7]\n",
    "k = 3\n",
    "print(maxSlidingWindow(nums, k))\n"
   ]
  },
  {
   "cell_type": "code",
   "execution_count": 16,
   "metadata": {},
   "outputs": [
    {
     "name": "stdout",
     "output_type": "stream",
     "text": [
      "[1, 2, 3, 4]\n"
     ]
    }
   ],
   "source": [
    "#Q - \n",
    "'''  \n",
    "Given a **sorted** integer array `arr`, two integers `k` and `x`, return the `k` closest integers to `x` in the array. The result should also be sorted in ascending order.\n",
    "\n",
    "An integer `a` is closer to `x` than an integer `b` if:\n",
    "\n",
    "- `|a - x| < |b - x|`, or\n",
    "- `|a - x| == |b - x|` and `a < b`\n",
    "\n",
    "Input for this question is: arr = [1,2,3,4,5], k = 4, x = 3\n",
    "Output for this question should be: [1,2,3,4]\n",
    "'''\n",
    "\n",
    "#Answer:\n",
    "def findClosestElements(arr, k, x):\n",
    "    left = 0\n",
    "    right = len(arr) - 1\n",
    "\n",
    "    while right - left + 1 > k:\n",
    "        if abs(arr[left] - x) > abs(arr[right] - x):\n",
    "            left += 1\n",
    "        else:\n",
    "            right -= 1\n",
    "\n",
    "    return arr[left:right + 1]\n",
    "\n",
    "# Example usage\n",
    "arr = [1, 2, 3, 4, 5]\n",
    "k = 4\n",
    "x = 3\n",
    "print(findClosestElements(arr, k, x))\n"
   ]
  },
  {
   "cell_type": "code",
   "execution_count": null,
   "metadata": {},
   "outputs": [],
   "source": []
  }
 ],
 "metadata": {
  "kernelspec": {
   "display_name": "Python 3.9.6 64-bit",
   "language": "python",
   "name": "python3"
  },
  "language_info": {
   "codemirror_mode": {
    "name": "ipython",
    "version": 3
   },
   "file_extension": ".py",
   "mimetype": "text/x-python",
   "name": "python",
   "nbconvert_exporter": "python",
   "pygments_lexer": "ipython3",
   "version": "3.9.6"
  },
  "orig_nbformat": 4,
  "vscode": {
   "interpreter": {
    "hash": "31f2aee4e71d21fbe5cf8b01ff0e069b9275f58929596ceb00d14d90e3e16cd6"
   }
  }
 },
 "nbformat": 4,
 "nbformat_minor": 2
}
